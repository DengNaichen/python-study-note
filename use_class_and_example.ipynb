{
 "metadata": {
  "language_info": {
   "codemirror_mode": {
    "name": "ipython",
    "version": 3
   },
   "file_extension": ".py",
   "mimetype": "text/x-python",
   "name": "python",
   "nbconvert_exporter": "python",
   "pygments_lexer": "ipython3",
   "version": "3.8.5-final"
  },
  "orig_nbformat": 2,
  "kernelspec": {
   "name": "python_defaultSpec_1600973260265",
   "display_name": "Python 3.8.5 64-bit ('py38': conda)"
  }
 },
 "nbformat": 4,
 "nbformat_minor": 2,
 "cells": [
  {
   "source": [
    "# 使用类和实例"
   ],
   "cell_type": "markdown",
   "metadata": {}
  },
  {
   "source": [
    "### car 类"
   ],
   "cell_type": "markdown",
   "metadata": {}
  },
  {
   "cell_type": "code",
   "execution_count": 3,
   "metadata": {},
   "outputs": [],
   "source": [
    "class Car():\n",
    "\n",
    "    def __init__(self, make, model, year):\n",
    "        self.make = make\n",
    "        self.model = model\n",
    "        self.year = year\n",
    "    \n",
    "    def get_descripution(self):\n",
    "        long_name = long_name = str(self.year) + ' ' + self.make + ' ' + self.model\n",
    "        return long_name.title() "
   ]
  },
  {
   "cell_type": "code",
   "execution_count": 5,
   "metadata": {
    "tags": []
   },
   "outputs": [
    {
     "output_type": "stream",
     "name": "stdout",
     "text": "2019 Tesla Model 3\n"
    }
   ],
   "source": [
    "my_new_car = Car('tesla', 'model 3', 2020)\n",
    "print (my_new_car.get_descripution() )"
   ]
  },
  {
   "source": [
    "### 给属性指定默认值"
   ],
   "cell_type": "markdown",
   "metadata": {}
  },
  {
   "cell_type": "code",
   "execution_count": 28,
   "metadata": {},
   "outputs": [],
   "source": [
    "class Car():\n",
    "\n",
    "    def __init__(self, make, model, year):\n",
    "        self.make = make\n",
    "        self.model = model\n",
    "        self.year = year\n",
    "        self.odometer_reading = 0  ## set a dafuelt value\n",
    "    \n",
    "    def get_descripution(self):\n",
    "        long_name = long_name = str(self.year) + ' ' + self.make + ' ' + self.model\n",
    "        return long_name.title() \n",
    "\n",
    "    def read_odometer(self):\n",
    "        print(\"This car has \" + str(self.odometer_reading) + \" miles on it.\")"
   ]
  },
  {
   "cell_type": "code",
   "execution_count": 31,
   "metadata": {
    "tags": []
   },
   "outputs": [
    {
     "output_type": "stream",
     "name": "stdout",
     "text": "2020 Tesla Model 3\nThis car has 0 miles on it.\n"
    }
   ],
   "source": [
    "my_new_car = Car('tesla', 'model 3', 2020)\n",
    "print (my_new_car.get_descripution() )\n",
    "my_new_car.read_odometer()\n"
   ]
  },
  {
   "source": [
    "### 修改属性的值"
   ],
   "cell_type": "markdown",
   "metadata": {}
  },
  {
   "cell_type": "code",
   "execution_count": 32,
   "metadata": {},
   "outputs": [],
   "source": [
    "class Car():\n",
    "\n",
    "    def __init__(self, make, model, year):\n",
    "        self.make = make\n",
    "        self.model = model\n",
    "        self.year = year\n",
    "        self.odometer_reading = 0\n",
    "    \n",
    "    def get_descripution(self):\n",
    "        long_name = long_name = str(self.year) + ' ' + self.make + ' ' + self.model\n",
    "        return long_name.title() \n",
    "\n",
    "    def update_odometer(self, mileage):\n",
    "        if mileage >= self.odometer_reading:\n",
    "            self.odometer_reading = mileage\n",
    "        else: \n",
    "            print (\"You can't roll back an odometer!\")\n",
    "\n",
    "    def increase_odometer(self, miles):\n",
    "        self.odometer_reading += miles\n",
    "\n",
    "    def read_odometer(self):\n",
    "        print(\"This car has \" + str(self.odometer_reading) + \" miles on it.\")"
   ]
  },
  {
   "source": [
    "#### 其实就是增加了一些“方法”而已"
   ],
   "cell_type": "markdown",
   "metadata": {}
  },
  {
   "cell_type": "code",
   "execution_count": 34,
   "metadata": {
    "tags": []
   },
   "outputs": [
    {
     "output_type": "stream",
     "name": "stdout",
     "text": "2015 Bmw X5\n"
    }
   ],
   "source": [
    "my_used_car = Car('bmw', 'x5', 2015)\n",
    "print (my_used_car.get_descripution())\n",
    "my_used_car.update_odometer(2400)\n",
    "my_used_car.increase_odometer(1000)\n",
    "my_used_car.read_odometer()"
   ]
  },
  {
   "source": [
    "## 动手试一试\n",
    "#### 9-4 就餐人数：在为完成练习 9-1 而编写的程序中，添加一个名为 `number_served` 的属性，并将其默认值设置为 0。根据这个类创建一个名为 `restaurant` 的实例；打印有 多少人在这家餐馆就餐过，然后修改这个值并再次打印它。\n",
    "\n",
    "#### 添加一个名为 `set_number_served()`的方法，它让你能够设置就餐人数。调用这个 方法并向它传递一个值，然后再次打印这个值。\n",
    "\n",
    "#### 添加一个名为 `increment_number_served()`的方法，它让你能够将就餐人数递增。 调用这个方法并向它传递一个这样的值：你认为这家餐馆每天可能接待的就餐人数。\n"
   ],
   "cell_type": "markdown",
   "metadata": {}
  },
  {
   "cell_type": "code",
   "execution_count": null,
   "metadata": {},
   "outputs": [],
   "source": []
  },
  {
   "source": [
    "### 在为完成练习 9-3 而编写的 `User `类中， 添加一个名为 `login_attempts` 的属性。编写一个名为 `increment_login_attempts()`的方法，它将属性 `login_attempts` 的值加 1。再编写一个名为 `reset_login_attempts()`的方法，它将属性 `login_attempts` 的值重置为 0。\n",
    "\n",
    "### 根据 User 类创建一个实例，再调用方法 `increment_login_attempts()`多次。打印属 性 login_attempts 的值，确认它被正确地递增；然后，调用方法 `reset_login_attempts()`， 并再次打印属性 `login_attempts` 的值，确认它被重置为 0。"
   ],
   "cell_type": "markdown",
   "metadata": {}
  },
  {
   "cell_type": "code",
   "execution_count": null,
   "metadata": {},
   "outputs": [],
   "source": []
  }
 ]
}