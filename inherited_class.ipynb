{
 "metadata": {
  "language_info": {
   "codemirror_mode": {
    "name": "ipython",
    "version": 3
   },
   "file_extension": ".py",
   "mimetype": "text/x-python",
   "name": "python",
   "nbconvert_exporter": "python",
   "pygments_lexer": "ipython3",
   "version": "3.8.5-final"
  },
  "orig_nbformat": 2,
  "kernelspec": {
   "name": "Python 3.8.5 64-bit",
   "display_name": "Python 3.8.5 64-bit",
   "metadata": {
    "interpreter": {
     "hash": "082e9a3bcad0a290d0001e938aa60b99250c6c2ef33a923c00b70f9826caf4b7"
    }
   }
  }
 },
 "nbformat": 4,
 "nbformat_minor": 2,
 "cells": [
  {
   "source": [
    "# 继承"
   ],
   "cell_type": "markdown",
   "metadata": {}
  },
  {
   "cell_type": "code",
   "execution_count": 1,
   "metadata": {},
   "outputs": [],
   "source": [
    "## 已经写好的类\n",
    "class Car():\n",
    "\n",
    "    def __init__(self, make, model, year):\n",
    "        self.make = make\n",
    "        self.model = model\n",
    "        self.year = year\n",
    "        self.odometer_reading = 0\n",
    "    \n",
    "    def get_descripution(self):\n",
    "        long_name = long_name = str(self.year) + ' ' + self.make + ' ' + self.model\n",
    "        return long_name.title() \n",
    "\n",
    "    def update_odometer(self, mileage):\n",
    "        if mileage >= self.odometer_reading:\n",
    "            self.odometer_reading = mileage\n",
    "        else: \n",
    "            print (\"You can't roll back an odometer!\")\n",
    "\n",
    "    def increase_odometer(self, miles):\n",
    "        self.odometer_reading += miles\n",
    "\n",
    "    def read_odometer(self):\n",
    "        print(\"This car has \" + str(self.odometer_reading) + \" miles on it.\")"
   ]
  },
  {
   "source": [
    "1. 创建子类时，父类必须包含在当前文件中，且位于子类前面。\n",
    "2. `super()`是一个特殊函数，帮助Python将父类和子类关联起来。这行代码让Python调用 `ElectricCar`的父类的方法`__init__()`，让ElectricCar实例包含父类的所有属性。父类也称为超 类（superclass），名称super因此而得名。"
   ],
   "cell_type": "markdown",
   "metadata": {}
  },
  {
   "cell_type": "code",
   "execution_count": 67,
   "metadata": {},
   "outputs": [],
   "source": [
    "class Battery():\n",
    "    def __init__(self, battery_size = 70):\n",
    "        self.battery_size = battery_size\n",
    "        if self.battery_size != 85:\n",
    "            self.battery_size = 85\n",
    "    def describe_battery (self):\n",
    "        print(\"This car has a \" + str(self.battery_size) + \"-kWh battery.\")\n",
    "\n",
    "    def get_range(self):\n",
    "        range = self.battery_size * 3.5\n",
    "        message = \"This car can go approximately \" + str(range) \n",
    "        message += \" miles on a full charge.\"\n",
    "        print(message)"
   ]
  },
  {
   "cell_type": "code",
   "execution_count": 69,
   "metadata": {
    "tags": []
   },
   "outputs": [
    {
     "output_type": "stream",
     "name": "stdout",
     "text": "2020 Tesla Model 3\nThis car has a 85-kWh battery.\nThis car can go approximately 297.5 miles on a full charge.\n"
    }
   ],
   "source": [
    "\n",
    "## subclass\n",
    "class Elecar (Car): # 这个是car的subclass\n",
    "\n",
    "    def __init__(self, make, model ,year):\n",
    "        super().__init__(make, model, year)\n",
    "        self.battery = Battery(60)\n",
    "\n",
    "    ## 给子类定义属性和方法\n",
    "    # def describe_battery (self):\n",
    "    #     print(\"This car has a \" + str(self.battery_size) + \"-kWh battery.\")\n",
    "    \n",
    "    ## 重写superclass 的 method, 只要重名即可\n",
    "my_tesla = Elecar(\"tesla\", \"model 3\", 2020)\n",
    "print (my_tesla.get_descripution())\n",
    "my_tesla.battery.describe_battery()\n",
    "# 这行代码让Python在实例 my_tesla中查找属性battery，并对存储在该属性中的Battery实例 调用方法describe_battery()。\n",
    "my_tesla.battery.get_range()"
   ]
  },
  {
   "source": [
    "# 动手试一试\n",
    "#### 9-6 冰淇淋小店：冰淇淋小店是一种特殊的餐馆。编写一个名为 IceCreamStand 的 类，让它继承你为完成练习 9-1 或练习 9-4 而编写的 Restaurant 类。这两个版本的 Restaurant 类都可以，挑选你更喜欢的那个即可。添加一个名为 flavors 的属性，用于 存储一个由各种口味的冰淇淋组成的列表。编写一个显示这些冰淇淋的方法。创建一个 IceCreamStand 实例，并调用这个方法。"
   ],
   "cell_type": "markdown",
   "metadata": {}
  },
  {
   "cell_type": "code",
   "execution_count": 35,
   "metadata": {},
   "outputs": [],
   "source": [
    "## previous class, super class \n",
    "class Restaurant ():\n",
    "    def __init__(self, name, cuisine_type):\n",
    "        self.name = name\n",
    "        self.cuisine_type = cuisine_type\n",
    "        self.number_served = 0\n",
    "    \n",
    "    def describe_restaurant (self):\n",
    "        print (self.name)\n",
    "        print (self.cuisine_type)\n",
    "        print (\"今天的用餐人数是: \" + str(self.number_served))\n",
    "\n",
    "    def open_restaurant (self):\n",
    "        print (self.name +\" \" +  \"is open\")\n",
    "    \n",
    "    def set_number_served (self, people):\n",
    "        self.number_served = people\n",
    "    \n",
    "    def increase_number_served(self, increase):\n",
    "        self.number_served += increase"
   ]
  },
  {
   "cell_type": "code",
   "execution_count": 39,
   "metadata": {
    "tags": []
   },
   "outputs": [
    {
     "output_type": "stream",
     "name": "stdout",
     "text": "['apple', 'shit', 'chocolate', 'matcha', 'strawberries', 'brown suger']\n"
    }
   ],
   "source": [
    "class IceCreamStand(Restaurant):\n",
    "    def __init__ (self, name, cuisine_type):\n",
    "        super().__init__(name, cuisine_type)\n",
    "        self.flavor = []\n",
    "    \n",
    "    def all_flavor(self):\n",
    "        self.flavor += [\"apple\", \"shit\", \"chocolate\", \"matcha\", \"strawberries\", \"brown suger\"]\n",
    "\n",
    "    def describe_flavor(self):\n",
    "        print (self.flavor)\n",
    "\n",
    "ice = IceCreamStand(\"good taste\", \"ice creame\")\n",
    "ice.all_flavor()\n",
    "ice.describe_flavor()"
   ]
  },
  {
   "source": [
    "#### 9-7 管理员：管理员是一种特殊的用户。编写一个名为 Admin 的类，让它继承你为 完成练习 9-3 或练习 9-5 而编写的 User 类。添加一个名为 privileges 的属性，用于存 储一个由字符串（如\"can add post\"、\"can delete post\"、\"can ban user\"等）组成的 列表。编写一个名为 show_privileges()的方法，它显示管理员的权限。创建一个 Admin 实例，并调用这个方法。"
   ],
   "cell_type": "markdown",
   "metadata": {}
  },
  {
   "cell_type": "code",
   "execution_count": 41,
   "metadata": {},
   "outputs": [],
   "source": [
    "## superclass\n",
    "class User ():\n",
    "    def __init__(self, first_name, last_name, age, email):\n",
    "        self.first_name = first_name\n",
    "        self.last_name = last_name\n",
    "        self.age = age\n",
    "        self.email = email\n",
    "        self.login_attempt = 0\n",
    "\n",
    "    def describe_user (self):\n",
    "        fullname = self.first_name + self.last_name\n",
    "        print (\"the user's name is: \" + fullname)\n",
    "        print (\"the user's age is: \" + str(self.age))\n",
    "        print (\"the email of user is: \" + self.email)\n",
    "        print (str(self.login_attempt))\n",
    "\n",
    "    def greet_user (self):\n",
    "        print (self.first_name + \", have a good day\")\n",
    "\n",
    "    def increment_login_attampt(self):\n",
    "        self.login_attempt += 1\n",
    "\n",
    "    def reset_login_attampt(self):\n",
    "        self. login_attempt = 0"
   ]
  },
  {
   "cell_type": "code",
   "execution_count": 46,
   "metadata": {
    "tags": []
   },
   "outputs": [
    {
     "output_type": "stream",
     "name": "stdout",
     "text": "['can add post', 'can delete post', 'can ban user']\n"
    }
   ],
   "source": [
    "class Admin (User):\n",
    "    def __init__ (self, first_name, last_name, age, email):\n",
    "        super().__init__(first_name, last_name, age, email)\n",
    "        self.privileges = [\"can add post\",\"can delete post\",\"can ban user\"]\n",
    "    def show_provoleges(self):\n",
    "        print (self.privileges)\n",
    "mine = Admin(\"Naicheng\", 'Deng', \"23\", \"email\")\n",
    "mine.show_provoleges()"
   ]
  },
  {
   "source": [
    "#### 9-8 权限：编写一个名为 Privileges 的类，它只有一个属性——privileges，其中 存储了练习 9-7 所说的字符串列表。将方法 show_privileges()移到这个类中。在 Admin 类中， 将一个 Privileges 实例用作其属性。 创建一个 Admin 实例， 并使用方法 show_privileges()来显示其权限。\n",
    "\n"
   ],
   "cell_type": "markdown",
   "metadata": {}
  },
  {
   "cell_type": "code",
   "execution_count": 66,
   "metadata": {
    "tags": []
   },
   "outputs": [
    {
     "output_type": "stream",
     "name": "stdout",
     "text": "['can add post', 'can delete post', 'can ban user']\n"
    }
   ],
   "source": [
    "class Privaleges():\n",
    "    def __init__(self, privaleges_list= [\"can add post\",\"can delete post\",\"can ban user\"]):\n",
    "        self.privaleges_list = privaleges_list\n",
    "\n",
    "    def show_privaleges(self):\n",
    "        print (self.privaleges_list)\n",
    "\n",
    "class Admin (User):\n",
    "    def __init__ (self, first_name, last_name, age, email):\n",
    "        super().__init__(first_name, last_name, age, email)\n",
    "        self.privaleges = Privaleges()\n",
    "\n",
    "    # def show_privaleges(self):\n",
    "    #     print (self.privaleges)\n",
    "    mine = Admin(\"Naicheng\", 'Deng', \"23\", \"email\")\n",
    "    mine.privaleges.show_privaleges()"
   ]
  },
  {
   "source": [
    "#### 9-9 电瓶升级：在本节最后一个 electric_car.py 版本中，给 Battery 类添加一个名为 upgrade_battery()的方法。这个方法检查电瓶容量，如果它不是 85，就将它设置为 85。 创建一辆电瓶容量为默认值的电动汽车，调用方法 get_range()，然后对电瓶进行升级， 并再次调用 get_range()。你会看到这辆汽车的续航里程增加了。 already done"
   ],
   "cell_type": "markdown",
   "metadata": {}
  },
  {
   "cell_type": "code",
   "execution_count": null,
   "metadata": {},
   "outputs": [],
   "source": []
  }
 ]
}